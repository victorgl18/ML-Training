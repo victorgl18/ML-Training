{
 "cells": [
  {
   "cell_type": "markdown",
   "metadata": {
    "collapsed": true
   },
   "source": [
    "# Capstone Project: Data Loader\n",
    "\n"
   ]
  },
  {
   "cell_type": "code",
   "execution_count": 4,
   "metadata": {
    "collapsed": true
   },
   "outputs": [],
   "source": [
    "# Import the relevant modules to be used later\n",
    "from __future__ import print_function\n",
    "import zipfile\n",
    "import matplotlib.image as mpimg\n",
    "import matplotlib.pyplot as plt\n",
    "import numpy as np\n",
    "import os\n",
    "import shutil\n",
    "import struct\n",
    "import sys\n",
    "\n",
    "try: \n",
    "    from urllib.request import urlretrieve \n",
    "except ImportError: \n",
    "    from urllib import urlretrieve\n",
    "\n",
    "# Config matplotlib for inline plotting\n",
    "%matplotlib inline"
   ]
  },
  {
   "cell_type": "markdown",
   "metadata": {},
   "source": [
    "## Data download\n",
    "\n",
    "We will download the data onto the local machine. The MNIST database is a standard set of handwritten digits that has been widely used for training and testing of machine learning algorithms. It has a training set of 60,000 images and a test set of 10,000 images with each image being 28 x 28 grayscale pixels. This set is easy to use visualize and train on any computer."
   ]
  },
  {
   "cell_type": "code",
   "execution_count": 16,
   "metadata": {
    "collapsed": true
   },
   "outputs": [],
   "source": [
    "# Functions to load MNIST images and unpack into train and test set.\n",
    "# - loadData reads image data and formats into a 28x28 long array\n",
    "# - loadLabels reads the corresponding labels data, 1 for each image\n",
    "# - load packs the downloaded image and labels data into a combined format to be read later by \n",
    "#   CNTK text reader \n",
    "\n",
    "#def loadData(src, cimg):\n",
    "#    print ('Downloading ' + src)\n",
    "#    gzfname, h = urlretrieve(src, './delete.me')\n",
    "#    print ('Done.')\n",
    "#    try:\n",
    "#        with gzip.open(gzfname) as gz:\n",
    "#            n = struct.unpack('I', gz.read(4))\n",
    "#            print(n)\n",
    "#            # Read magic number.\n",
    "#           if n[0] != 0x3080000:\n",
    "#                raise Exception('Invalid file: unexpected magic number.')\n",
    "#            # Read number of entries.\n",
    "#            n = struct.unpack('>I', gz.read(4))[0]\n",
    "#            print(n)\n",
    "#            if n != cimg:\n",
    "#                raise Exception('Invalid file: expected {0} entries.'.format(cimg))\n",
    "#            crow = struct.unpack('>I', gz.read(4))[0]\n",
    "#            ccol = struct.unpack('>I', gz.read(4))[0]\n",
    "#            print(str(crow)+\",\"+str(ccol))\n",
    "#            if crow != 28 or ccol != 28:\n",
    "#                raise Exception('Invalid file: expected 28 rows/cols per image.')\n",
    "#            # Read data.\n",
    "#            res = np.fromstring(gz.read(cimg * crow * ccol), dtype = np.uint8)\n",
    "#    finally:\n",
    "#        os.remove(gzfname)\n",
    "#    return res.reshape((cimg, crow * ccol))\n",
    "\n",
    "def loadData(src, cimg):\n",
    "    print(src)\n",
    "\n",
    "def loadLabels(src, cimg):\n",
    "    print ('Downloading ' + src)\n",
    "    gzfname, h = urlretrieve(src, './delete.me')\n",
    "    print ('Done.')\n",
    "    try:\n",
    "        with gzip.open(gzfname) as gz:\n",
    "            n = struct.unpack('I', gz.read(4))\n",
    "            # Read magic number.\n",
    "            if n[0] != 0x1080000:\n",
    "                raise Exception('Invalid file: unexpected magic number.')\n",
    "            # Read number of entries.\n",
    "            n = struct.unpack('>I', gz.read(4))\n",
    "            if n[0] != cimg:\n",
    "                raise Exception('Invalid file: expected {0} rows.'.format(cimg))\n",
    "            # Read labels.\n",
    "            res = np.fromstring(gz.read(cimg), dtype = np.uint8)\n",
    "    finally:\n",
    "        os.remove(gzfname)\n",
    "    return res.reshape((cimg, 1))\n",
    "\n",
    "def try_download(dataSrc, labelsSrc, cimg):\n",
    "    data = loadData(dataSrc, cimg)\n",
    "    labels = loadLabels(labelsSrc, cimg)\n",
    "    return np.hstack((data, labels))\n"
   ]
  },
  {
   "cell_type": "markdown",
   "metadata": {},
   "source": [
    "# Download the data\n",
    "\n",
    "In the following code, we use the functions defined above to download and unzip the MNIST data into memory.  The training set has 60000 images while the test set has 10000 images. "
   ]
  },
  {
   "cell_type": "code",
   "execution_count": 17,
   "metadata": {},
   "outputs": [
    {
     "name": "stdout",
     "output_type": "stream",
     "text": [
      "Downloading train data\n",
      "Downloading http://yann.lecun.com/exdb/mnist/train-images-idx3-ubyte.gz\n",
      "Done.\n",
      "(50855936,)\n",
      "60000\n",
      "28,28\n"
     ]
    },
    {
     "name": "stderr",
     "output_type": "stream",
     "text": [
      "C:\\Users\\victorgl\\AppData\\Local\\Continuum\\anaconda3\\lib\\site-packages\\ipykernel_launcher.py:29: DeprecationWarning: The binary mode of fromstring is deprecated, as it behaves surprisingly on unicode inputs. Use frombuffer instead\n"
     ]
    },
    {
     "name": "stdout",
     "output_type": "stream",
     "text": [
      "Downloading http://yann.lecun.com/exdb/mnist/train-labels-idx1-ubyte.gz\n",
      "Done.\n",
      "Downloading test data\n",
      "Downloading http://yann.lecun.com/exdb/mnist/t10k-images-idx3-ubyte.gz\n"
     ]
    },
    {
     "name": "stderr",
     "output_type": "stream",
     "text": [
      "C:\\Users\\victorgl\\AppData\\Local\\Continuum\\anaconda3\\lib\\site-packages\\ipykernel_launcher.py:49: DeprecationWarning: The binary mode of fromstring is deprecated, as it behaves surprisingly on unicode inputs. Use frombuffer instead\n"
     ]
    },
    {
     "name": "stdout",
     "output_type": "stream",
     "text": [
      "Done.\n",
      "(50855936,)\n",
      "10000\n",
      "28,28\n",
      "Downloading http://yann.lecun.com/exdb/mnist/t10k-labels-idx1-ubyte.gz\n",
      "Done.\n"
     ]
    }
   ],
   "source": [
    "# URLs for the train image and labels data\n",
    "url_train_image = 'http://yann.lecun.com/exdb/mnist/train-images-idx3-ubyte.gz'\n",
    "url_train_labels = 'http://yann.lecun.com/exdb/mnist/train-labels-idx1-ubyte.gz'\n",
    "num_train_samples = 60000\n",
    "\n",
    "print(\"Downloading train data\")\n",
    "train = try_download(url_train_image, url_train_labels, num_train_samples)\n",
    "\n",
    "\n",
    "url_test_image = 'http://yann.lecun.com/exdb/mnist/t10k-images-idx3-ubyte.gz'\n",
    "url_test_labels = 'http://yann.lecun.com/exdb/mnist/t10k-labels-idx1-ubyte.gz'\n",
    "num_test_samples = 10000\n",
    "\n",
    "print(\"Downloading test data\")\n",
    "test = try_download(url_test_image, url_test_labels, num_test_samples)\n"
   ]
  },
  {
   "cell_type": "markdown",
   "metadata": {},
   "source": [
    "# Visualize the data\n",
    "Here, we use matplotlib to display one of the training images and it's associated label."
   ]
  },
  {
   "cell_type": "code",
   "execution_count": 18,
   "metadata": {},
   "outputs": [
    {
     "name": "stdout",
     "output_type": "stream",
     "text": [
      "Image Label:  6\n"
     ]
    },
    {
     "data": {
      "image/png": "[encoded data removed]",
      "text/plain": [
       "<matplotlib.figure.Figure at 0x2f4592b5cf8>"
      ]
     },
     "metadata": {},
     "output_type": "display_data"
    }
   ],
   "source": [
    "# Plot a random image\n",
    "sample_number = 5003\n",
    "plt.imshow(train[sample_number,:-1].reshape(28,28), cmap=\"gray_r\")\n",
    "plt.axis('off')\n",
    "print(\"Image Label: \", train[sample_number,-1])"
   ]
  },
  {
   "cell_type": "markdown",
   "metadata": {},
   "source": [
    "# Save the images\n",
    "\n",
    "Save the images in a local directory. While saving the data we flatten the images to a vector (28x28 image pixels becomes an array of length 784 data points).\n",
    "\n",
    "![mnist-input](https://www.cntk.ai/jup/cntk103a_MNIST_input.png)\n",
    "\n",
    "The labels are encoded as [1-hot][] encoding (label of 3 with 10 digits becomes `0001000000`, where the first index corresponds to digit `0` and the last one corresponds to digit `9`.\n",
    "\n",
    "![mnist-label](https://www.cntk.ai/jup/cntk103a_onehot.png)\n",
    "\n",
    "[1-hot]: https://en.wikipedia.org/wiki/One-hot"
   ]
  },
  {
   "cell_type": "code",
   "execution_count": 25,
   "metadata": {
    "collapsed": true
   },
   "outputs": [],
   "source": [
    "# Save the data files into a format compatible with CNTK text reader\n",
    "def savetxt(filename, ndarray):\n",
    "    dir = os.path.dirname(filename)\n",
    "\n",
    "    if not os.path.exists(dir):\n",
    "        os.makedirs(dir)\n",
    "\n",
    "    if not os.path.isfile(filename):\n",
    "        print(\"Saving\", filename )\n",
    "        with open(filename, 'w') as f:\n",
    "            labels = list(map(' '.join, np.eye(4, dtype=np.uint).astype(str)))\n",
    "            for row in ndarray:\n",
    "                row_str = row.astype(str)\n",
    "                label_str = labels[row[-1]]\n",
    "                feature_str = ' '.join(row_str[:-1])\n",
    "                f.write('|labels {} |features {}\\n'.format(label_str, feature_str))\n",
    "    else:\n",
    "        print(\"File already exists\", filename)\n"
   ]
  },
  {
   "cell_type": "code",
   "execution_count": 20,
   "metadata": {},
   "outputs": [
    {
     "name": "stdout",
     "output_type": "stream",
     "text": [
      "Writing train text file...\n",
      "File already exists data\\MNIST\\Train-28x28_cntk_text.txt\n",
      "Writing test text file...\n",
      "File already exists data\\MNIST\\Test-28x28_cntk_text.txt\n",
      "Done\n"
     ]
    }
   ],
   "source": [
    "# Save the train and test files (prefer our default path for the data)\n",
    "data_dir = os.path.join(\"..\", \"Examples\", \"Image\", \"DataSets\", \"MNIST\")\n",
    "if not os.path.exists(data_dir):\n",
    "    data_dir = os.path.join(\"data\", \"MNIST\")\n",
    "\n",
    "print ('Writing train text file...')\n",
    "savetxt(os.path.join(data_dir, \"Train-28x28_cntk_text.txt\"), train)\n",
    "\n",
    "print ('Writing test text file...')\n",
    "savetxt(os.path.join(data_dir, \"Test-28x28_cntk_text.txt\"), test)\n",
    "\n",
    "print('Done')"
   ]
  },
  {
   "cell_type": "markdown",
   "metadata": {},
   "source": [
    "**Optional: Suggested Explorations** \n",
    "\n",
    "One can do data manipulations to improve the performance of a machine learning system. I suggest you first use the data generated so far and complete Lab 2- 4 labs. Once you have a baseline with classifying the data in its original form, now use the different data manipulation techniques to further improve the model.\n",
    "\n",
    "There are several ways data alterations can be performed. CNTK readers automate a lot of these actions for you. However, to get a feel for how these transforms can impact training and test accuracies, I strongly encourage individuals to try one or more of data perturbation.\n",
    "\n",
    "- Shuffle the training data rows to create a different set of training images.  Be sure to shuffle each image in the same way.   Hint: Use `permute_indices = np.random.permutation(train.shape[0])`. Then run Lab 2-4 with this newly permuted data.\n",
    "- Adding noise to the data can often improve (lower) the [generalization error][]. You can augment the training set by adding  noise (generated with numpy, hint: use `numpy.random`) to the training images. \n",
    "- Distort the images with [affine transformation][] (translations or rotations)\n",
    "\n",
    "[generalization error]: https://en.wikipedia.org/wiki/Generalization_error\n",
    "[affine transformation]: https://en.wikipedia.org/wiki/Affine_transformation\n"
   ]
  },
  {
   "cell_type": "code",
   "execution_count": 2,
   "metadata": {},
   "outputs": [
    {
     "name": "stdout",
     "output_type": "stream",
     "text": [
      "Filename:Capstone\\Training_data.zip\n"
     ]
    }
   ],
   "source": [
    "import sys, zipfile\n",
    "import struct\n",
    "import matplotlib.pyplot as plt\n",
    "import matplotlib.image as mpimg\n",
    "import numpy as np\n",
    "from scipy import ndimage\n",
    "\n",
    "%matplotlib inline\n",
    "\n",
    "filename=\"Capstone\\Training_data.zip\"\n",
    "z = zipfile.ZipFile(filename)\n",
    "print(\"Filename:\"+str(filename))\n",
    "\n",
    "\n",
    "#Load Training Labels\n",
    "label_data = np.genfromtxt(z.open('train_labels.csv'), delimiter=',')\n",
    "label_data=label_data[1:].astype(int)\n",
    "#print(label_data)\n",
    "labels = list(map(' '.join, np.eye(4, dtype=np.uint).astype(str)))\n",
    "i = iter(label_data)\n",
    "labels_dict = dict(label_data)\n",
    "#print(labels_dict[100006])\n",
    "\n",
    "#print(sorted(z.namelist()))\n"
   ]
  },
  {
   "cell_type": "code",
   "execution_count": 25,
   "metadata": {
    "scrolled": true
   },
   "outputs": [
    {
     "name": "stdout",
     "output_type": "stream",
     "text": [
      "train/100000.png\n",
      "1 0 0 0\n",
      "Exported 60000 training samples and 20000 validation samples\n"
     ]
    },
    {
     "data": {
      "image/png": "[encoded data removed]",
      "text/plain": [
       "<matplotlib.figure.Figure at 0x24d1b9f90f0>"
      ]
     },
     "metadata": {},
     "output_type": "display_data"
    }
   ],
   "source": [
    "def rotate_image(img,label):\n",
    "    rotated_img=ndimage.rotate(img, 90)\n",
    "    #print('label:'+label)\n",
    "    if label =='1 0 0 0':\n",
    "        rotated_label='0 1 0 0'\n",
    "    if label =='0 1 0 0':\n",
    "        rotated_label='0 0 1 0'\n",
    "    if label =='0 0 1 0':\n",
    "        rotated_label='0 0 0 1'\n",
    "    if label =='0 0 0 1':\n",
    "        rotated_label='1 0 0 0'\n",
    "    #print('rotated:'+rotated_label)\n",
    "    return rotated_img, rotated_label\n",
    "   \n",
    "\n",
    "count=0\n",
    "val_count=0\n",
    "with open('Capstone\\Train_data.txt', 'w') as train_file:\n",
    "    with open('Capstone\\Validation_data','w') as validation_file:\n",
    "        for f in z.namelist():\n",
    "            #print(f[:4])\n",
    "            if f[:4] == 'trai':\n",
    "                #print(f[:4])\n",
    "                if f[-4:] == '.png':\n",
    "                    count += 3\n",
    "                    img=mpimg.imread(z.open(f))\n",
    "                    #print(img.shape)\n",
    "                    img=(img/(np.max(img)/255)).astype(int)\n",
    "                    imgstr=img.astype(str)\n",
    "                    label_str = labels[labels_dict[int(f[-10:-4])]]\n",
    "                    feature_str = ' '.join(imgstr.flatten()[:])\n",
    "                    train_file.write('|labels {} |features {}\\n'.format(label_str,feature_str))\n",
    "                    img, label_str = rotate_image(img,label_str)\n",
    "                    imgstr=img.astype(str)\n",
    "                    feature_str = ' '.join(imgstr.flatten()[:])\n",
    "                    train_file.write('|labels {} |features {}\\n'.format(label_str,feature_str))\n",
    "                    img, label_str = rotate_image(img,label_str)\n",
    "                    imgstr=img.astype(str)\n",
    "                    feature_str = ' '.join(imgstr.flatten()[:])\n",
    "                    train_file.write('|labels {} |features {}\\n'.format(label_str,feature_str))\n",
    "                    img, label_str = rotate_image(img,label_str)\n",
    "                    imgstr=img.astype(str)\n",
    "                    feature_str = ' '.join(imgstr.flatten()[:])\n",
    "                    validation_file.write('|labels {} |features {}\\n'.format(label_str,feature_str))\n",
    "                    val_count +=1\n",
    "                    #print(img.flatten())\n",
    "                    if f[-10:-4]== '100000':\n",
    "                        print(f)\n",
    "                        print(label_str)\n",
    "                        plt.figure(1)\n",
    "                        plt.subplot(211)\n",
    "                        plt.imshow(img, cmap=\"gray_r\")\n",
    "                        plt.axis('off')\n",
    "                        plt.subplot(212)\n",
    "                        rotates_img = ndimage.rotate(img, 90)\n",
    "                        plt.imshow(rotates_img, 'gray_r')\n",
    "                        plt.axis('off')\n",
    "print('Exported {} training samples and {} validation samples'.format(count,val_count))\n",
    "\n",
    " \n",
    "\n",
    "def export_test_data():\n",
    "    count=0\n",
    "    with open('Capstone\\Test_data.txt', 'w') as test_file:\n",
    "        for f in sorted(z.namelist()):\n",
    "            #print(f[:4])\n",
    "            if f[:4] == 'test':\n",
    "                #print(f[:4])\n",
    "                if f[-4:] == '.png':\n",
    "                    img=mpimg.imread(z.open(f))\n",
    "                    #print(img.shape)\n",
    "                    img=(img/(np.max(img)/255)).astype(int)\n",
    "                    imgstr=img.astype(str)\n",
    "                    label_str ='0 0 0 0'\n",
    "                    feature_str = ' '.join(imgstr.flatten()[:])\n",
    "                    #print(feature_str)\n",
    "                    test_file.write('|labels {} |features {}\\n'.format(label_str,feature_str))            \n",
    "    print('Exported {} training samples'.format(count))"
   ]
  },
  {
   "cell_type": "code",
   "execution_count": 17,
   "metadata": {},
   "outputs": [
    {
     "data": {
      "image/png": "[encoded data removed]",
      "text/plain": [
       "<matplotlib.figure.Figure at 0x24d19cff4a8>"
      ]
     },
     "metadata": {},
     "output_type": "display_data"
    }
   ],
   "source": [
    "def f(t):\n",
    "    return np.exp(-t) * np.cos(2*np.pi*t)\n",
    "\n",
    "t1 = np.arange(0.0, 5.0, 0.1)\n",
    "t2 = np.arange(0.0, 5.0, 0.02)\n",
    "\n",
    "plt.figure(1)\n",
    "plt.subplot(211)\n",
    "plt.plot(t1, f(t1), 'bo', t2, f(t2), 'k')\n",
    "\n",
    "plt.subplot(212)\n",
    "plt.plot(t2, np.cos(2*np.pi*t2), 'r--')\n",
    "plt.show()"
   ]
  },
  {
   "cell_type": "code",
   "execution_count": null,
   "metadata": {
    "collapsed": true
   },
   "outputs": [],
   "source": []
  }
 ],
 "metadata": {
  "anaconda-cloud": {},
  "kernelspec": {
   "display_name": "Python [default]",
   "language": "python",
   "name": "python3"
  },
  "language_info": {
   "codemirror_mode": {
    "name": "ipython",
    "version": 3
   },
   "file_extension": ".py",
   "mimetype": "text/x-python",
   "name": "python",
   "nbconvert_exporter": "python",
   "pygments_lexer": "ipython3",
   "version": "3.6.3"
  }
 },
 "nbformat": 4,
 "nbformat_minor": 1
}
